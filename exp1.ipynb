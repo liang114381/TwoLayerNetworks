{
 "cells": [
  {
   "cell_type": "code",
   "execution_count": 1,
   "metadata": {
    "pycharm": {
     "name": "#%%\n"
    }
   },
   "outputs": [],
   "source": [
    "import numpy as np\n",
    "import theano\n",
    "import theano.tensor as T\n",
    "import os, pickle, gzip\n",
    "from PIL import Image\n",
    "import matplotlib.pyplot as plt\n",
    "\n",
    "from theano import function\n",
    "rng = np.random"
   ]
  },
  {
   "cell_type": "code",
   "execution_count": 80,
   "metadata": {
    "pycharm": {
     "name": "#%%\n"
    }
   },
   "outputs": [],
   "source": [
    "class SimpleTwoLayer(object):\n",
    "    \n",
    "    n_in = 2\n",
    "    n_hidden = 10000\n",
    "        \n",
    "    a = theano.shared(\n",
    "        value=np.random.choice(\n",
    "            [-1, 1],\n",
    "            (SimpleTwoLayer.n_hidden,),\n",
    "        ).astype(theano.config.floatX),\n",
    "        name='a',\n",
    "        borrow=True\n",
    "    )\n",
    "\n",
    "    def __init__(self, input):\n",
    "\n",
    "        self.W = theano.shared(\n",
    "            value=np.random.randn(\n",
    "                self.n_in, self.n_hidden\n",
    "            ).astype(theano.config.floatX),\n",
    "            name='W',\n",
    "            borrow=True\n",
    "        )\n",
    "\n",
    "        self.y_pred = T.dot(T.dot(input, self.W), self.a) / np.sqrt(self.n_hidden)\n",
    "        self.params = [self.W, self.a]\n",
    "        self.input = input\n",
    "        \n",
    "    def cost(self, y):\n",
    "        return T.sum((self.y_pred - y)**2)\n",
    "\n",
    "def a_func(x, y):\n",
    "    return x + y\n",
    "\n",
    "def train(sample_x, sample_y, learning_rate=0.0001, n_epoches=1000):\n",
    "    \n",
    "    x = T.matrix('x')\n",
    "    y = T.vector('y')\n",
    "    model = SimpleTwoLayer(input=x)\n",
    "    cost = model.cost(y)\n",
    "    g_W = T.grad(cost=cost, wrt=model.W)\n",
    "    updates = [(model.W, model.W - g_W * learning_rate)]\n",
    "    train_model = theano.function(\n",
    "        inputs=[x, y],\n",
    "        outputs=cost,\n",
    "        updates=updates\n",
    "    )\n",
    "\n",
    "    epoch = 0\n",
    "    while epoch < n_epoches:\n",
    "        epoch = epoch + 1\n",
    "        c = train_model(sample_x, sample_y)\n",
    "#         print(epoch, c)\n",
    "    return model"
   ]
  },
  {
   "cell_type": "code",
   "execution_count": 81,
   "metadata": {
    "pycharm": {
     "name": "#%%\n"
    }
   },
   "outputs": [],
   "source": [
    "def generate_sample(N):\n",
    "    x = np.random.randn(N,2)\n",
    "    y = np.zeros((N,))\n",
    "    for i in range(N):\n",
    "        y[i] = a_func(x[i,0], x[i,1])\n",
    "    return x, y"
   ]
  },
  {
   "cell_type": "code",
   "execution_count": 82,
   "metadata": {},
   "outputs": [],
   "source": [
    "x, y = generate_sample(200)\n",
    "model = train(x, y)\n",
    "predict = theano.function(\n",
    "    inputs=[model.input],\n",
    "    outputs=model.y_pred\n",
    "    )"
   ]
  },
  {
   "cell_type": "code",
   "execution_count": 83,
   "metadata": {},
   "outputs": [
    {
     "data": {
      "text/plain": [
       "array([0.5])"
      ]
     },
     "execution_count": 83,
     "metadata": {},
     "output_type": "execute_result"
    }
   ],
   "source": [
    "predict([[0.5, 0]])"
   ]
  },
  {
   "cell_type": "code",
   "execution_count": 84,
   "metadata": {},
   "outputs": [],
   "source": [
    "x, y= generate_sample(200)\n",
    "\n",
    "models = []\n",
    "n_model = 50\n",
    "for i in range(n_model):\n",
    "    models.append(train(x.astype(np.float64), y.astype(np.float64), n_epoches=0))"
   ]
  },
  {
   "cell_type": "code",
   "execution_count": 85,
   "metadata": {
    "pycharm": {
     "name": "#%%\n"
    }
   },
   "outputs": [],
   "source": [
    "def predict(model, test_x):\n",
    "    predict_model = theano.function(\n",
    "        inputs=[model.input],\n",
    "        outputs=model.y_pred\n",
    "    )\n",
    "\n",
    "    predicted_values = predict_model(test_x)\n",
    "    return predicted_values\n"
   ]
  },
  {
   "cell_type": "code",
   "execution_count": 95,
   "metadata": {},
   "outputs": [
    {
     "data": {
      "text/plain": [
       "array([0.32010151])"
      ]
     },
     "execution_count": 95,
     "metadata": {},
     "output_type": "execute_result"
    }
   ],
   "source": [
    "predict(models[2], [[0,1]])"
   ]
  },
  {
   "cell_type": "code",
   "execution_count": 86,
   "metadata": {},
   "outputs": [],
   "source": [
    "test_x, test_y = generate_sample(1000)\n",
    "\n",
    "predicted_y = predict(models[0], test_x)\n",
    "errors = np.zeros((len(models), len(test_x)))\n",
    "for i in range(len(models)):\n",
    "    predicted_y = predict(models[i], test_x)\n",
    "    errors[i] = predicted_y - test_y"
   ]
  },
  {
   "cell_type": "code",
   "execution_count": 87,
   "metadata": {
    "pycharm": {
     "name": "#%%\n"
    }
   },
   "outputs": [],
   "source": [
    "Corr = np.abs(np.corrcoef(errors))"
   ]
  },
  {
   "cell_type": "code",
   "execution_count": 88,
   "metadata": {
    "pycharm": {
     "name": "#%%\n"
    },
    "scrolled": true
   },
   "outputs": [
    {
     "data": {
      "image/png": "[encoded data removed]",
      "text/plain": [
       "<Figure size 432x288 with 2 Axes>"
      ]
     },
     "metadata": {
      "needs_background": "light"
     },
     "output_type": "display_data"
    }
   ],
   "source": [
    "plt.imshow(Corr, cmap='hot')\n",
    "plt.colorbar() \n",
    "plt.show()"
   ]
  },
  {
   "cell_type": "code",
   "execution_count": 87,
   "metadata": {
    "scrolled": true
   },
   "outputs": [
    {
     "data": {
      "image/png": "[encoded data removed]",
      "text/plain": [
       "<Figure size 432x288 with 1 Axes>"
      ]
     },
     "metadata": {
      "needs_background": "light"
     },
     "output_type": "display_data"
    }
   ],
   "source": [
    "n_sample = 30\n",
    "bias = np.abs(np.mean(errors, axis=1)[:n_sample])\n",
    "std = np.std(errors, axis=1)[:n_sample]\n",
    "\n",
    "x_val = []\n",
    "y_val = []\n",
    "col_val = []\n",
    "\n",
    "for i in range(n_sample):\n",
    "    x_val.append(i*3)\n",
    "    x_val.append(i*3+1)\n",
    "    y_val.append(bias[i])\n",
    "    y_val.append(std[i])\n",
    "    col_val.append('r')\n",
    "    col_val.append('b')\n",
    "    \n",
    "plt.bar(x_val, y_val, color=col_val)\n",
    "plt.show()"
   ]
  },
  {
   "cell_type": "code",
   "execution_count": 53,
   "metadata": {
    "scrolled": true
   },
   "outputs": [
    {
     "data": {
      "image/png": "[encoded data removed]",
      "text/plain": [
       "<Figure size 432x288 with 1 Axes>"
      ]
     },
     "metadata": {
      "needs_background": "light"
     },
     "output_type": "display_data"
    }
   ],
   "source": [
    "n_sample = 30\n",
    "bias = np.abs(np.mean(errors, axis=1)[:n_sample])\n",
    "std = np.std(errors, axis=1)[:n_sample]\n",
    "\n",
    "x_val = []\n",
    "y_val = []\n",
    "col_val = []\n",
    "\n",
    "for i in range(n_sample):\n",
    "    x_val.append(i*3)\n",
    "    x_val.append(i*3+1)\n",
    "    y_val.append(bias[i])\n",
    "    y_val.append(std[i])\n",
    "    col_val.append('r')\n",
    "    col_val.append('b')\n",
    "    \n",
    "plt.bar(x_val, y_val, color=col_val)\n",
    "plt.show()"
   ]
  },
  {
   "cell_type": "code",
   "execution_count": 88,
   "metadata": {},
   "outputs": [
    {
     "data": {
      "text/plain": [
       "(array([-0.52130095,  0.14460828]), -0.07538443417869954, -0.25091970510517414)"
      ]
     },
     "execution_count": 88,
     "metadata": {},
     "output_type": "execute_result"
    }
   ],
   "source": [
    "test_x[0], test_y[0], errors[0][0]"
   ]
  },
  {
   "cell_type": "code",
   "execution_count": 27,
   "metadata": {
    "pycharm": {
     "name": "#%%\n"
    }
   },
   "outputs": [],
   "source": [
    "def show_digit(image):\n",
    "    img = Image.fromarray(np.uint8(image), 'L')\n",
    "    img.show()"
   ]
  },
  {
   "cell_type": "code",
   "execution_count": 90,
   "metadata": {},
   "outputs": [],
   "source": [
    "Ws = np.zeros([n_model, np.prod(models[0].W.get_value().shape)])\n",
    "for i in range(n_model):\n",
    "    Ws[i, :] = models[i].W.get_value().flatten()"
   ]
  },
  {
   "cell_type": "code",
   "execution_count": 91,
   "metadata": {},
   "outputs": [
    {
     "data": {
      "image/png": "[encoded data removed]",
      "text/plain": [
       "<Figure size 432x288 with 2 Axes>"
      ]
     },
     "metadata": {
      "needs_background": "light"
     },
     "output_type": "display_data"
    }
   ],
   "source": [
    "plt.imshow(np.corrcoef(Ws), cmap='hot')\n",
    "plt.colorbar()\n",
    "plt.show()"
   ]
  },
  {
   "cell_type": "code",
   "execution_count": 124,
   "metadata": {},
   "outputs": [
    {
     "data": {
      "text/plain": [
       "array([[1.       , 0.9897388],\n",
       "       [0.9897388, 1.       ]])"
      ]
     },
     "execution_count": 124,
     "metadata": {},
     "output_type": "execute_result"
    }
   ],
   "source": [
    "a1 = np.random.choice([-1, 1], (SimpleTwoLayer.n_hidden,))\n",
    "a2 = np.random.choice([-1, 1], (SimpleTwoLayer.n_hidden,))\n",
    "W1 = np.random.randn(SimpleTwoLayer.n_in, SimpleTwoLayer.n_hidden)\n",
    "\n",
    "np.corrcoef(X@W1@a1, X@W2@a2)"
   ]
  },
  {
   "cell_type": "code",
   "execution_count": null,
   "metadata": {},
   "outputs": [],
   "source": []
  }
 ],
 "metadata": {
  "kernelspec": {
   "display_name": "Python [conda env:Exp]",
   "language": "python",
   "name": "conda-env-Exp-py"
  },
  "language_info": {
   "codemirror_mode": {
    "name": "ipython",
    "version": 3
   },
   "file_extension": ".py",
   "mimetype": "text/x-python",
   "name": "python",
   "nbconvert_exporter": "python",
   "pygments_lexer": "ipython3",
   "version": "3.8.3"
  }
 },
 "nbformat": 4,
 "nbformat_minor": 1
}
